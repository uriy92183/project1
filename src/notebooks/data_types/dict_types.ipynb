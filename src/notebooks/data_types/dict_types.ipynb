{
 "cells": [
  {
   "cell_type": "raw",
   "id": "b31126bb-684c-4b27-8814-61c486c76337",
   "metadata": {},
   "source": [
    "дз: \n",
    "1) краткое описание  словарей\n",
    "2) написать несколько примеров словарей\n",
    "3) написать несколько примеров использования функций встрояных в этот тип данных\n",
    "4)Словарь-это неупорядоченная структура данных. Это значит, что все пары <ключ-значение> хранятся в произвольном порядке.\n",
    "5)gender_dict = {0: \"муж\",  \n",
    "                 1: \"жен\"}\n",
    "6) def, print"
   ]
  }
 ],
 "metadata": {
  "kernelspec": {
   "display_name": "Python 3 (ipykernel)",
   "language": "python",
   "name": "python3"
  },
  "language_info": {
   "codemirror_mode": {
    "name": "ipython",
    "version": 3
   },
   "file_extension": ".py",
   "mimetype": "text/x-python",
   "name": "python",
   "nbconvert_exporter": "python",
   "pygments_lexer": "ipython3",
   "version": "3.12.3"
  }
 },
 "nbformat": 4,
 "nbformat_minor": 5
}
