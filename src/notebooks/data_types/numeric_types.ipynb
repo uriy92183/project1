{
 "cells": [
  {
   "cell_type": "markdown",
   "id": "9a70a042-91e7-40d5-9398-664b6f2ab6ef",
   "metadata": {},
   "source": [
    "дз:\n",
    "1) написать примеры для типов данных int\n",
    "2) написать примеры для типов данных float\n",
    "3) написать краткое описание к этим типам данных\n",
    "4) примеры считывания двух чисел, вводимых в одной строчке через пробел:\n",
    "   s = int(input())\n",
    "   t = int(input())\n",
    "5) float(1.23)\n",
    "6) тип float числа с плавающей точкой\n",
    "  int возращает целое число в десятичной системе счисления"
   ]
  }
 ],
 "metadata": {
  "kernelspec": {
   "display_name": "Python 3 (ipykernel)",
   "language": "python",
   "name": "python3"
  },
  "language_info": {
   "codemirror_mode": {
    "name": "ipython",
    "version": 3
   },
   "file_extension": ".py",
   "mimetype": "text/x-python",
   "name": "python",
   "nbconvert_exporter": "python",
   "pygments_lexer": "ipython3",
   "version": "3.12.3"
  }
 },
 "nbformat": 4,
 "nbformat_minor": 5
}
