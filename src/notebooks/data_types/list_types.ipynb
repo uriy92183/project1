{
 "cells": [
  {
   "cell_type": "raw",
   "id": "c093a68f-18e1-476c-a40a-fae79c452263",
   "metadata": {},
   "source": [
    "дз: \n",
    "1) краткое описание списков\n",
    "2) написать несколько примеров списков\n",
    "3) написать несколько примеров использования функций встрояных в этот тип данных\n",
    "4) это упорядочная колллекция элементов которая позволяет хранить несколько значений в одной переменной\n",
    "5) список из чисел и слов \n",
    "6) numbers = [1,2,3,4]"
   ]
  },
  {
   "cell_type": "code",
   "execution_count": 2,
   "id": "3ee275a3-0b69-4199-816f-d5457ab80d57",
   "metadata": {},
   "outputs": [],
   "source": [
    "numbers = [1,2,3,4]"
   ]
  },
  {
   "cell_type": "code",
   "execution_count": 4,
   "id": "2058b4f4-24d0-4ce2-82e0-4cc4ca4b795d",
   "metadata": {},
   "outputs": [
    {
     "name": "stdout",
     "output_type": "stream",
     "text": [
      "[1, 2, 3, 4, 5]\n"
     ]
    }
   ],
   "source": [
    "# append\n",
    "# добавление любого объекта в конец списка\n",
    "numbers.append(5)\n",
    "print(numbers)"
   ]
  },
  {
   "cell_type": "code",
   "execution_count": null,
   "id": "379dab44-2f46-4eca-a15e-990393fd447c",
   "metadata": {},
   "outputs": [],
   "source": []
  },
  {
   "cell_type": "code",
   "execution_count": null,
   "id": "463ab5f1-e6dc-483e-9a99-ff774083de2e",
   "metadata": {},
   "outputs": [],
   "source": []
  }
 ],
 "metadata": {
  "kernelspec": {
   "display_name": "Python 3 (ipykernel)",
   "language": "python",
   "name": "python3"
  },
  "language_info": {
   "codemirror_mode": {
    "name": "ipython",
    "version": 3
   },
   "file_extension": ".py",
   "mimetype": "text/x-python",
   "name": "python",
   "nbconvert_exporter": "python",
   "pygments_lexer": "ipython3",
   "version": "3.12.3"
  }
 },
 "nbformat": 4,
 "nbformat_minor": 5
}
