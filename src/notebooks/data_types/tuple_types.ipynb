{
 "cells": [
  {
   "cell_type": "raw",
   "id": "d383e43c-fbbe-4baa-8d35-a8ef2838e468",
   "metadata": {},
   "source": [
    "дз: \n",
    "1) краткое описание кортэжэй\n",
    "2) написать несколько примеров картэжэй\n",
    "3) написать несколько примеров использования функций встрояных в этот тип данных\n",
    "1) это неизменяемый тип данных в Python который используется для хранения упорядочноченной последоватильности элементов\n",
    "2) кортэж из списков, кортэж из словарей, кортэж из разных типов данных, кортэж из других кортэжэй, кортэж из логических значений, кортэж из слов, кортэж из чисел\n",
    "3) кортэж из строк: (\"яблоко\", \"банан\", \"апельсин\")\n"
   ]
  }
 ],
 "metadata": {
  "kernelspec": {
   "display_name": "Python 3 (ipykernel)",
   "language": "python",
   "name": "python3"
  },
  "language_info": {
   "codemirror_mode": {
    "name": "ipython",
    "version": 3
   },
   "file_extension": ".py",
   "mimetype": "text/x-python",
   "name": "python",
   "nbconvert_exporter": "python",
   "pygments_lexer": "ipython3",
   "version": "3.12.3"
  }
 },
 "nbformat": 4,
 "nbformat_minor": 5
}
