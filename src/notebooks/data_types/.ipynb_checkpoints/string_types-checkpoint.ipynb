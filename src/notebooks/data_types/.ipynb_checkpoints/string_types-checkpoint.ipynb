{
 "cells": [
  {
   "cell_type": "raw",
   "id": "c22ce798-35bf-4072-a4bb-81839c7caee9",
   "metadata": {},
   "source": [
    "дз: \n",
    "1) краткое описание строковых типов данных\n",
    "2) написать несколько примеров в строковых переменых в одну строчку и в несколько строк\n",
    "3) написать несколько примеров использования функций встрояных в этот тип данных"
   ]
  }
 ],
 "metadata": {
  "kernelspec": {
   "display_name": "Python 3 (ipykernel)",
   "language": "python",
   "name": "python3"
  },
  "language_info": {
   "codemirror_mode": {
    "name": "ipython",
    "version": 3
   },
   "file_extension": ".py",
   "mimetype": "text/x-python",
   "name": "python",
   "nbconvert_exporter": "python",
   "pygments_lexer": "ipython3",
   "version": "3.12.3"
  }
 },
 "nbformat": 4,
 "nbformat_minor": 5
}
