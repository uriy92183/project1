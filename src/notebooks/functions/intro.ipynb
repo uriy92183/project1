{
 "cells": [
  {
   "cell_type": "code",
   "execution_count": 1,
   "id": "49182ccc-fcd5-49fa-98eb-adc011b12e3f",
   "metadata": {},
   "outputs": [],
   "source": [
    "def print_hello():\n",
    "    for i in range(0,5):\n",
    "        print(i, \" hello\")"
   ]
  },
  {
   "cell_type": "code",
   "execution_count": 2,
   "id": "4b97776f-439d-4ae6-81b7-5663e5279e50",
   "metadata": {},
   "outputs": [
    {
     "name": "stdout",
     "output_type": "stream",
     "text": [
      "0  hello\n",
      "1  hello\n",
      "2  hello\n",
      "3  hello\n",
      "4  hello\n"
     ]
    }
   ],
   "source": [
    "print_hello()"
   ]
  },
  {
   "cell_type": "code",
   "execution_count": 3,
   "id": "9411ff61-b1af-45cc-8235-4ad618515a64",
   "metadata": {},
   "outputs": [
    {
     "name": "stdout",
     "output_type": "stream",
     "text": [
      "0  hello\n",
      "1  hello\n",
      "2  hello\n",
      "3  hello\n",
      "4  hello\n"
     ]
    }
   ],
   "source": [
    "print_hello()"
   ]
  },
  {
   "cell_type": "code",
   "execution_count": 4,
   "id": "e7a8e221-d309-4546-8ad2-a085a3a9c592",
   "metadata": {},
   "outputs": [],
   "source": [
    "def hello(name):\n",
    "    print(f\"hello, {name}!\")"
   ]
  },
  {
   "cell_type": "code",
   "execution_count": 5,
   "id": "f52ca818-e681-4c58-82be-9b9aa9aefb11",
   "metadata": {},
   "outputs": [
    {
     "name": "stdout",
     "output_type": "stream",
     "text": [
      "hello, Коля!\n"
     ]
    }
   ],
   "source": [
    "hello(\"Коля\")"
   ]
  },
  {
   "cell_type": "code",
   "execution_count": 6,
   "id": "522967ff-8eaa-456b-bc04-be01e5579c43",
   "metadata": {},
   "outputs": [
    {
     "name": "stdout",
     "output_type": "stream",
     "text": [
      "hello, Настя!\n"
     ]
    }
   ],
   "source": [
    "hello(\"Настя\")"
   ]
  },
  {
   "cell_type": "code",
   "execution_count": 8,
   "id": "683498ff-bebb-4e92-9a71-781cb103e1c8",
   "metadata": {},
   "outputs": [],
   "source": [
    "def my_sum(num1, num2):\n",
    "    return num1 + num2"
   ]
  },
  {
   "cell_type": "code",
   "execution_count": 9,
   "id": "2c0d78e3-56fa-477d-a0e2-fdbbcbc56134",
   "metadata": {},
   "outputs": [
    {
     "data": {
      "text/plain": [
       "122"
      ]
     },
     "execution_count": 9,
     "metadata": {},
     "output_type": "execute_result"
    }
   ],
   "source": [
    "my_sum(34,88)"
   ]
  },
  {
   "cell_type": "code",
   "execution_count": 10,
   "id": "e754891f-c97e-4395-9b80-5ba236c06937",
   "metadata": {},
   "outputs": [
    {
     "data": {
      "text/plain": [
       "122"
      ]
     },
     "execution_count": 10,
     "metadata": {},
     "output_type": "execute_result"
    }
   ],
   "source": [
    "my_sum(num1 = 34, num2 = 88)"
   ]
  },
  {
   "cell_type": "code",
   "execution_count": 11,
   "id": "9af2c5f9-882a-4298-8049-521977cfc461",
   "metadata": {},
   "outputs": [],
   "source": [
    "def func1(num1, num2, action):\n",
    "    if action == \"/\": \n",
    "        return num1/(num1-num2)"
   ]
  },
  {
   "cell_type": "code",
   "execution_count": 12,
   "id": "621c58a3-1648-46c4-b87e-57a0f1d81612",
   "metadata": {},
   "outputs": [
    {
     "data": {
      "text/plain": [
       "-1.0"
      ]
     },
     "execution_count": 12,
     "metadata": {},
     "output_type": "execute_result"
    }
   ],
   "source": [
    "func1(1,2,\"/\")"
   ]
  },
  {
   "cell_type": "code",
   "execution_count": 13,
   "id": "281706dd-76c2-47d6-88c3-4701e8982881",
   "metadata": {},
   "outputs": [
    {
     "data": {
      "text/plain": [
       "2.0"
      ]
     },
     "execution_count": 13,
     "metadata": {},
     "output_type": "execute_result"
    }
   ],
   "source": [
    "func1(2, 1,\"/\")"
   ]
  },
  {
   "cell_type": "code",
   "execution_count": 14,
   "id": "f322fd5b-bd99-4441-8fae-9737349e1093",
   "metadata": {},
   "outputs": [],
   "source": [
    "func1(1, \"/\", 2)"
   ]
  },
  {
   "cell_type": "code",
   "execution_count": 16,
   "id": "386b1e1e-6490-4bbb-8bf4-cd55f57d352a",
   "metadata": {},
   "outputs": [
    {
     "data": {
      "text/plain": [
       "-1.0"
      ]
     },
     "execution_count": 16,
     "metadata": {},
     "output_type": "execute_result"
    }
   ],
   "source": [
    "func1(num1 = 1, action = \"/\", num2 = 2)"
   ]
  },
  {
   "cell_type": "code",
   "execution_count": 17,
   "id": "8c83024b-b142-409e-98bf-6d5d24a8d25b",
   "metadata": {},
   "outputs": [],
   "source": [
    "def decorator(func):\n",
    "    return func() *2"
   ]
  },
  {
   "cell_type": "code",
   "execution_count": 18,
   "id": "83f19a7e-fe37-4def-bf33-64bd26b0779b",
   "metadata": {},
   "outputs": [
    {
     "ename": "TypeError",
     "evalue": "'int' object is not iterable",
     "output_type": "error",
     "traceback": [
      "\u001b[1;31m---------------------------------------------------------------------------\u001b[0m",
      "\u001b[1;31mTypeError\u001b[0m                                 Traceback (most recent call last)",
      "Cell \u001b[1;32mIn[18], line 1\u001b[0m\n\u001b[1;32m----> 1\u001b[0m decorator(\u001b[38;5;28;43msum\u001b[39;49m\u001b[43m(\u001b[49m\u001b[38;5;241;43m1\u001b[39;49m\u001b[43m,\u001b[49m\u001b[43m \u001b[49m\u001b[38;5;241;43m2\u001b[39;49m\u001b[43m)\u001b[49m)\n",
      "\u001b[1;31mTypeError\u001b[0m: 'int' object is not iterable"
     ]
    }
   ],
   "source": [
    "decorator(sum(1, 2))"
   ]
  },
  {
   "cell_type": "code",
   "execution_count": 25,
   "id": "c2e4c849-e766-423d-814d-b6b9c90aebaf",
   "metadata": {},
   "outputs": [
    {
     "data": {
      "text/plain": [
       "81.0"
      ]
     },
     "execution_count": 25,
     "metadata": {},
     "output_type": "execute_result"
    }
   ],
   "source": [
    "    math.pow(3, math.pow(2,2))"
   ]
  },
  {
   "cell_type": "code",
   "execution_count": 4,
   "id": "dd47d9b7-4305-40e2-82b8-130dbbc1846c",
   "metadata": {},
   "outputs": [],
   "source": [
    "import math"
   ]
  },
  {
   "cell_type": "code",
   "execution_count": 5,
   "id": "bb22880f-068a-4f54-933f-3a0c901d1572",
   "metadata": {},
   "outputs": [
    {
     "data": {
      "text/plain": [
       "0"
      ]
     },
     "execution_count": 5,
     "metadata": {},
     "output_type": "execute_result"
    }
   ],
   "source": [
    "10%2"
   ]
  },
  {
   "cell_type": "code",
   "execution_count": 6,
   "id": "a06689b8-a18d-45ca-8c8c-9e8fae5f44ad",
   "metadata": {},
   "outputs": [
    {
     "data": {
      "text/plain": [
       "2"
      ]
     },
     "execution_count": 6,
     "metadata": {},
     "output_type": "execute_result"
    }
   ],
   "source": [
    "2%10"
   ]
  },
  {
   "cell_type": "code",
   "execution_count": 9,
   "id": "c02019b7-70d8-4916-b391-936e3a5dd1bc",
   "metadata": {},
   "outputs": [
    {
     "data": {
      "text/plain": [
       "5.5"
      ]
     },
     "execution_count": 9,
     "metadata": {},
     "output_type": "execute_result"
    }
   ],
   "source": [
    "11/2"
   ]
  },
  {
   "cell_type": "code",
   "execution_count": 10,
   "id": "248ed89d-d97b-4139-85a5-5715bc0ae18e",
   "metadata": {},
   "outputs": [
    {
     "data": {
      "text/plain": [
       "5"
      ]
     },
     "execution_count": 10,
     "metadata": {},
     "output_type": "execute_result"
    }
   ],
   "source": [
    "11//2"
   ]
  },
  {
   "cell_type": "code",
   "execution_count": 11,
   "id": "081158eb-9769-44c0-b898-4be733e5df47",
   "metadata": {},
   "outputs": [
    {
     "data": {
      "text/plain": [
       "1"
      ]
     },
     "execution_count": 11,
     "metadata": {},
     "output_type": "execute_result"
    }
   ],
   "source": [
    "11%2"
   ]
  },
  {
   "cell_type": "code",
   "execution_count": 12,
   "id": "103e998e-5b7e-4ff3-827f-bbba7183a0b2",
   "metadata": {},
   "outputs": [
    {
     "data": {
      "text/plain": [
       "22"
      ]
     },
     "execution_count": 12,
     "metadata": {},
     "output_type": "execute_result"
    }
   ],
   "source": [
    "11*2"
   ]
  },
  {
   "cell_type": "code",
   "execution_count": 13,
   "id": "69c38a77-1267-4d31-87bc-c60dabe877fe",
   "metadata": {},
   "outputs": [
    {
     "data": {
      "text/plain": [
       "121"
      ]
     },
     "execution_count": 13,
     "metadata": {},
     "output_type": "execute_result"
    }
   ],
   "source": [
    "11**2"
   ]
  },
  {
   "cell_type": "code",
   "execution_count": 14,
   "id": "caad5e4f-531c-462e-ac68-71eebfa446bf",
   "metadata": {},
   "outputs": [
    {
     "data": {
      "text/plain": [
       "8"
      ]
     },
     "execution_count": 14,
     "metadata": {},
     "output_type": "execute_result"
    }
   ],
   "source": [
    "2**3"
   ]
  },
  {
   "cell_type": "code",
   "execution_count": null,
   "id": "8ff8071e-1b57-4942-b1f8-d2b2bdb7f5d5",
   "metadata": {},
   "outputs": [],
   "source": [
    "#бит\n",
    "i=2\n"
   ]
  },
  {
   "cell_type": "code",
   "execution_count": null,
   "id": "cdf93054-f94f-4686-aa46-404935a4ef1f",
   "metadata": {},
   "outputs": [],
   "source": [
    "#байт 8битов 2*8 \n",
    "i=2**4"
   ]
  },
  {
   "cell_type": "code",
   "execution_count": 15,
   "id": "56fe2c1e-20f1-4dfe-89fb-7380dd3660e9",
   "metadata": {},
   "outputs": [
    {
     "data": {
      "text/plain": [
       "1099511627776"
      ]
     },
     "execution_count": 15,
     "metadata": {},
     "output_type": "execute_result"
    }
   ],
   "source": [
    "#килобайт 2**10байт\n",
    "(2**4)**10"
   ]
  },
  {
   "cell_type": "code",
   "execution_count": 16,
   "id": "38771d13-6b1d-493c-93dd-2196cad84b10",
   "metadata": {},
   "outputs": [
    {
     "data": {
      "text/plain": [
       "1208925819614629174706176"
      ]
     },
     "execution_count": 16,
     "metadata": {},
     "output_type": "execute_result"
    }
   ],
   "source": [
    " #мегобайт 2**20байт\n",
    "(2**4)**20"
   ]
  },
  {
   "cell_type": "code",
   "execution_count": 22,
   "id": "45404c46-9882-4bc6-95e2-e62b9212b785",
   "metadata": {},
   "outputs": [],
   "source": [
    "def func_numbers(num):\n",
    "    for i in range(0,13):\n",
    "        print(f\"num = {num}; степень = {i}; num**i = {num**i}\")\n"
   ]
  },
  {
   "cell_type": "code",
   "execution_count": 24,
   "id": "b3103ab7-a163-4968-882c-422694c0940b",
   "metadata": {},
   "outputs": [
    {
     "name": "stdout",
     "output_type": "stream",
     "text": [
      "num = 10; степень = 0; num**i = 1\n",
      "num = 10; степень = 1; num**i = 10\n",
      "num = 10; степень = 2; num**i = 100\n",
      "num = 10; степень = 3; num**i = 1000\n",
      "num = 10; степень = 4; num**i = 10000\n",
      "num = 10; степень = 5; num**i = 100000\n",
      "num = 10; степень = 6; num**i = 1000000\n",
      "num = 10; степень = 7; num**i = 10000000\n",
      "num = 10; степень = 8; num**i = 100000000\n",
      "num = 10; степень = 9; num**i = 1000000000\n",
      "num = 10; степень = 10; num**i = 10000000000\n",
      "num = 10; степень = 11; num**i = 100000000000\n",
      "num = 10; степень = 12; num**i = 1000000000000\n"
     ]
    }
   ],
   "source": [
    "func_numbers(10)"
   ]
  },
  {
   "cell_type": "code",
   "execution_count": 25,
   "id": "6d064615-a274-4513-ac51-050d9dfb7a5b",
   "metadata": {},
   "outputs": [],
   "source": [
    "def func_numbers():\n",
    "    for i in range(1,13):\n",
    "        if i %2==0:\n",
    "            print(i, \"чёт\")\n",
    "        else:\n",
    "            print(i, \"нечёт\")\n"
   ]
  },
  {
   "cell_type": "code",
   "execution_count": 27,
   "id": "02e43ea2-4da0-43a7-9a79-b72e1298398b",
   "metadata": {},
   "outputs": [
    {
     "name": "stdout",
     "output_type": "stream",
     "text": [
      "1 нечёт\n",
      "2 чёт\n",
      "3 нечёт\n",
      "4 чёт\n",
      "5 нечёт\n",
      "6 чёт\n",
      "7 нечёт\n",
      "8 чёт\n",
      "9 нечёт\n",
      "10 чёт\n",
      "11 нечёт\n",
      "12 чёт\n"
     ]
    }
   ],
   "source": [
    "func_numbers()"
   ]
  },
  {
   "cell_type": "code",
   "execution_count": null,
   "id": "01967d97-00c0-499f-858b-bb5690647030",
   "metadata": {},
   "outputs": [],
   "source": []
  }
 ],
 "metadata": {
  "kernelspec": {
   "display_name": "Python 3 (ipykernel)",
   "language": "python",
   "name": "python3"
  },
  "language_info": {
   "codemirror_mode": {
    "name": "ipython",
    "version": 3
   },
   "file_extension": ".py",
   "mimetype": "text/x-python",
   "name": "python",
   "nbconvert_exporter": "python",
   "pygments_lexer": "ipython3",
   "version": "3.12.3"
  }
 },
 "nbformat": 4,
 "nbformat_minor": 5
}
