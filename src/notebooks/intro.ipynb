{
 "cells": [
  {
   "cell_type": "code",
   "execution_count": 1,
   "id": "b49267bd-0be9-49c6-8bc0-055ac7f86297",
   "metadata": {},
   "outputs": [],
   "source": [
    "# целые числа\n",
    "object1 = 1"
   ]
  },
  {
   "cell_type": "code",
   "execution_count": 2,
   "id": "510a6015-ead0-4d5e-a8b5-17b2a15047f0",
   "metadata": {},
   "outputs": [
    {
     "data": {
      "text/plain": [
       "int"
      ]
     },
     "execution_count": 2,
     "metadata": {},
     "output_type": "execute_result"
    }
   ],
   "source": [
    "type(object1)"
   ]
  },
  {
   "cell_type": "code",
   "execution_count": 3,
   "id": "4c728689-6ade-404d-b93b-ce2a209a5d8e",
   "metadata": {},
   "outputs": [],
   "source": [
    "# числа с плавающей запятой\n",
    "object2 = 3.14"
   ]
  },
  {
   "cell_type": "code",
   "execution_count": 4,
   "id": "34bc52c3-26e4-4da6-83b9-65487c396106",
   "metadata": {},
   "outputs": [
    {
     "data": {
      "text/plain": [
       "float"
      ]
     },
     "execution_count": 4,
     "metadata": {},
     "output_type": "execute_result"
    }
   ],
   "source": [
    "type(object2)"
   ]
  },
  {
   "cell_type": "code",
   "execution_count": 8,
   "id": "cceaa372-413e-423e-b786-83bcd66b2b99",
   "metadata": {},
   "outputs": [],
   "source": [
    "# строчный тип данных\n",
    "object3 = \"Юра\" \n",
    "object4 = 'Харакозов'"
   ]
  },
  {
   "cell_type": "code",
   "execution_count": 6,
   "id": "ff102e6e-6288-40d9-b409-50cb584a9d66",
   "metadata": {},
   "outputs": [],
   "source": [
    "object5 = \"\"\"kl,thlh,fgppt,pp,pj,yppplp,jop,ypl\n",
    "jfddgfdkgdffkdjjjngfjgsjglksjg\n",
    "gdfgsdhg;s;Ldndl\"\"\""
   ]
  },
  {
   "cell_type": "code",
   "execution_count": 7,
   "id": "caaddd19-d2b9-4ae4-8a35-0534afa09efc",
   "metadata": {},
   "outputs": [
    {
     "data": {
      "text/plain": [
       "str"
      ]
     },
     "execution_count": 7,
     "metadata": {},
     "output_type": "execute_result"
    }
   ],
   "source": [
    "type(object5)"
   ]
  },
  {
   "cell_type": "code",
   "execution_count": 9,
   "id": "0211c330-ba18-4fd0-907d-782cd29e4665",
   "metadata": {},
   "outputs": [],
   "source": [
    "# списки\n",
    "object6 = [1,2,3,4,5,6, \"fgtyhytj\", object2,3.14]"
   ]
  },
  {
   "cell_type": "code",
   "execution_count": 10,
   "id": "c10c5a62-9599-461f-9276-2c7204537534",
   "metadata": {},
   "outputs": [
    {
     "data": {
      "text/plain": [
       "list"
      ]
     },
     "execution_count": 10,
     "metadata": {},
     "output_type": "execute_result"
    }
   ],
   "source": [
    "type(object6)"
   ]
  },
  {
   "cell_type": "code",
   "execution_count": 11,
   "id": "b0c5a256-2535-44df-a940-f5a08d4e0c71",
   "metadata": {},
   "outputs": [],
   "source": [
    "# масив\n",
    "object7 = {1,1,2,2,\"a\",\"a\"}"
   ]
  },
  {
   "cell_type": "code",
   "execution_count": 12,
   "id": "39e7caf7-3bb4-48ed-bb60-99159fdbe0fb",
   "metadata": {},
   "outputs": [
    {
     "name": "stdout",
     "output_type": "stream",
     "text": [
      "{1, 2, 'a'}\n"
     ]
    }
   ],
   "source": [
    "print(object7)"
   ]
  },
  {
   "cell_type": "code",
   "execution_count": 13,
   "id": "44803bd3-212c-4c1f-9279-9f8a791d2e6f",
   "metadata": {},
   "outputs": [
    {
     "data": {
      "text/plain": [
       "set"
      ]
     },
     "execution_count": 13,
     "metadata": {},
     "output_type": "execute_result"
    }
   ],
   "source": [
    "type(object7)"
   ]
  },
  {
   "cell_type": "code",
   "execution_count": 14,
   "id": "a5ef5315-a743-489d-8fb0-76efda3e11e0",
   "metadata": {},
   "outputs": [],
   "source": [
    "# кортеж\n",
    "object8 = (1,4,7,.5)"
   ]
  },
  {
   "cell_type": "code",
   "execution_count": 15,
   "id": "8685b175-589a-467b-8be2-31f82ccf4962",
   "metadata": {},
   "outputs": [
    {
     "data": {
      "text/plain": [
       "tuple"
      ]
     },
     "execution_count": 15,
     "metadata": {},
     "output_type": "execute_result"
    }
   ],
   "source": [
    "type(object8)"
   ]
  },
  {
   "cell_type": "code",
   "execution_count": 1,
   "id": "90cd1fc8-bd72-43ba-bf4a-868780d7116b",
   "metadata": {},
   "outputs": [],
   "source": [
    "# словари\n",
    "object1 = {\n",
    "    \"name\" : \"Uriy\", \n",
    "    \"age\" : 11,\n",
    "    \"weight\" : 36.8}\n"
   ]
  },
  {
   "cell_type": "code",
   "execution_count": 2,
   "id": "f9c66f69-813d-4b77-a11b-3a5b611e249d",
   "metadata": {},
   "outputs": [
    {
     "data": {
      "text/plain": [
       "'Uriy'"
      ]
     },
     "execution_count": 2,
     "metadata": {},
     "output_type": "execute_result"
    }
   ],
   "source": [
    "object1.get(\"name\")"
   ]
  },
  {
   "cell_type": "code",
   "execution_count": 3,
   "id": "a80392a8-c1d1-4f86-a93a-7fa8fae6e910",
   "metadata": {},
   "outputs": [
    {
     "data": {
      "text/plain": [
       "dict_items([('name', 'Uriy'), ('age', 11), ('weight', 36.8)])"
      ]
     },
     "execution_count": 3,
     "metadata": {},
     "output_type": "execute_result"
    }
   ],
   "source": [
    "object1.items()"
   ]
  },
  {
   "cell_type": "code",
   "execution_count": 4,
   "id": "4d84dfe0-04e6-42ca-b673-4d00ae7ebad4",
   "metadata": {},
   "outputs": [
    {
     "data": {
      "text/plain": [
       "dict_keys(['name', 'age', 'weight'])"
      ]
     },
     "execution_count": 4,
     "metadata": {},
     "output_type": "execute_result"
    }
   ],
   "source": [
    "object1.keys()"
   ]
  },
  {
   "cell_type": "code",
   "execution_count": 5,
   "id": "84d5346f-ea31-412f-acff-f53117068c14",
   "metadata": {},
   "outputs": [
    {
     "data": {
      "text/plain": [
       "dict_values(['Uriy', 11, 36.8])"
      ]
     },
     "execution_count": 5,
     "metadata": {},
     "output_type": "execute_result"
    }
   ],
   "source": [
    "object1.values()"
   ]
  },
  {
   "cell_type": "code",
   "execution_count": 6,
   "id": "afdfc5e0-2191-4904-8faf-ba5cbdfd52eb",
   "metadata": {},
   "outputs": [],
   "source": [
    "object2 = True"
   ]
  },
  {
   "cell_type": "code",
   "execution_count": 7,
   "id": "01484c89-4ac9-493d-89f0-a00510075750",
   "metadata": {},
   "outputs": [
    {
     "name": "stderr",
     "output_type": "stream",
     "text": [
      "C:\\Users\\nikol\\AppData\\Local\\Temp\\ipykernel_16992\\1292668938.py:1: DeprecationWarning: Bitwise inversion '~' on bool is deprecated. This returns the bitwise inversion of the underlying int object and is usually not what you expect from negating a bool. Use the 'not' operator for boolean negation or ~int(x) if you really want the bitwise inversion of the underlying int.\n",
      "  object2 = ~ object2\n"
     ]
    }
   ],
   "source": [
    "object2 = ~ object2"
   ]
  },
  {
   "cell_type": "code",
   "execution_count": 8,
   "id": "1255d456-26d5-4cc1-8fde-0fb9e46c4e7c",
   "metadata": {},
   "outputs": [
    {
     "data": {
      "text/plain": [
       "-2"
      ]
     },
     "execution_count": 8,
     "metadata": {},
     "output_type": "execute_result"
    }
   ],
   "source": [
    "object2"
   ]
  },
  {
   "cell_type": "code",
   "execution_count": 9,
   "id": "1bc24a09-677d-4777-a282-a1d64361a492",
   "metadata": {},
   "outputs": [],
   "source": [
    "object3 = None"
   ]
  },
  {
   "cell_type": "code",
   "execution_count": 10,
   "id": "cb9291e9-62c1-4958-8a14-a76ab812a23b",
   "metadata": {},
   "outputs": [],
   "source": [
    "object3"
   ]
  },
  {
   "cell_type": "code",
   "execution_count": 11,
   "id": "450407f0-f6a1-47fe-b355-1a38ebb1a7d1",
   "metadata": {},
   "outputs": [
    {
     "data": {
      "text/plain": [
       "True"
      ]
     },
     "execution_count": 11,
     "metadata": {},
     "output_type": "execute_result"
    }
   ],
   "source": [
    "1 == 1"
   ]
  },
  {
   "cell_type": "code",
   "execution_count": 12,
   "id": "72cf3e09-7d0c-477c-b12d-5ec5d6b4ae8c",
   "metadata": {},
   "outputs": [
    {
     "data": {
      "text/plain": [
       "False"
      ]
     },
     "execution_count": 12,
     "metadata": {},
     "output_type": "execute_result"
    }
   ],
   "source": [
    "1 == 2"
   ]
  },
  {
   "cell_type": "code",
   "execution_count": 13,
   "id": "3816e8d6-1fe5-41e4-98f0-0d089b2f6cab",
   "metadata": {},
   "outputs": [
    {
     "data": {
      "text/plain": [
       "False"
      ]
     },
     "execution_count": 13,
     "metadata": {},
     "output_type": "execute_result"
    }
   ],
   "source": [
    "1 > 2"
   ]
  },
  {
   "cell_type": "code",
   "execution_count": 14,
   "id": "9becf465-9dfc-4102-bf52-c54467508014",
   "metadata": {},
   "outputs": [
    {
     "data": {
      "text/plain": [
       "True"
      ]
     },
     "execution_count": 14,
     "metadata": {},
     "output_type": "execute_result"
    }
   ],
   "source": [
    "1 > 0"
   ]
  },
  {
   "cell_type": "code",
   "execution_count": 15,
   "id": "1ae46b85-7526-4dbc-bb1f-e11b63561aad",
   "metadata": {},
   "outputs": [
    {
     "data": {
      "text/plain": [
       "True"
      ]
     },
     "execution_count": 15,
     "metadata": {},
     "output_type": "execute_result"
    }
   ],
   "source": [
    "1>= 1"
   ]
  },
  {
   "cell_type": "code",
   "execution_count": 16,
   "id": "dbc6b8d8-f7de-47d2-b1d5-1bc16690a4f9",
   "metadata": {},
   "outputs": [
    {
     "data": {
      "text/plain": [
       "True"
      ]
     },
     "execution_count": 16,
     "metadata": {},
     "output_type": "execute_result"
    }
   ],
   "source": [
    "1< 2"
   ]
  },
  {
   "cell_type": "code",
   "execution_count": 17,
   "id": "d78ab351-759c-4b61-97b7-b589803b0a05",
   "metadata": {},
   "outputs": [
    {
     "data": {
      "text/plain": [
       "False"
      ]
     },
     "execution_count": 17,
     "metadata": {},
     "output_type": "execute_result"
    }
   ],
   "source": [
    "2< 2"
   ]
  },
  {
   "cell_type": "code",
   "execution_count": 18,
   "id": "92d39d6e-6aed-4dcc-8f10-3a25b1d85a0d",
   "metadata": {},
   "outputs": [
    {
     "data": {
      "text/plain": [
       "True"
      ]
     },
     "execution_count": 18,
     "metadata": {},
     "output_type": "execute_result"
    }
   ],
   "source": [
    "2<= 2"
   ]
  },
  {
   "cell_type": "code",
   "execution_count": 19,
   "id": "808d821b-cf9a-448b-a7c3-1b6ab0d7375b",
   "metadata": {},
   "outputs": [],
   "source": [
    "x = 100\n",
    "y = \"100\"\n",
    "z = 100"
   ]
  },
  {
   "cell_type": "code",
   "execution_count": 20,
   "id": "a7b8de44-4f3a-405c-8d49-63a385071830",
   "metadata": {},
   "outputs": [
    {
     "data": {
      "text/plain": [
       "False"
      ]
     },
     "execution_count": 20,
     "metadata": {},
     "output_type": "execute_result"
    }
   ],
   "source": [
    "x == y"
   ]
  },
  {
   "cell_type": "code",
   "execution_count": 21,
   "id": "5d4b5fb2-ecb3-4b7a-b118-74a793bbc883",
   "metadata": {},
   "outputs": [
    {
     "data": {
      "text/plain": [
       "True"
      ]
     },
     "execution_count": 21,
     "metadata": {},
     "output_type": "execute_result"
    }
   ],
   "source": [
    "x == z"
   ]
  },
  {
   "cell_type": "code",
   "execution_count": 22,
   "id": "d214cb5e-da45-4e1d-b6cc-1326ec3adf92",
   "metadata": {},
   "outputs": [
    {
     "data": {
      "text/plain": [
       "False"
      ]
     },
     "execution_count": 22,
     "metadata": {},
     "output_type": "execute_result"
    }
   ],
   "source": [
    "x is y"
   ]
  },
  {
   "cell_type": "code",
   "execution_count": 23,
   "id": "b7c6035d-2494-4126-943b-ef79f7e73b38",
   "metadata": {},
   "outputs": [
    {
     "data": {
      "text/plain": [
       "True"
      ]
     },
     "execution_count": 23,
     "metadata": {},
     "output_type": "execute_result"
    }
   ],
   "source": [
    "x is z"
   ]
  },
  {
   "cell_type": "code",
   "execution_count": 24,
   "id": "0e6298fc-4c67-4964-ada1-6a6caa0ae8a3",
   "metadata": {},
   "outputs": [
    {
     "data": {
      "text/plain": [
       "140732852151832"
      ]
     },
     "execution_count": 24,
     "metadata": {},
     "output_type": "execute_result"
    }
   ],
   "source": [
    "id(x)"
   ]
  },
  {
   "cell_type": "code",
   "execution_count": 25,
   "id": "2954283d-11c8-45d0-87c4-c8b93f967383",
   "metadata": {},
   "outputs": [
    {
     "data": {
      "text/plain": [
       "140732852151832"
      ]
     },
     "execution_count": 25,
     "metadata": {},
     "output_type": "execute_result"
    }
   ],
   "source": [
    "id(z)"
   ]
  },
  {
   "cell_type": "code",
   "execution_count": 27,
   "id": "fc953b8c-dc8d-4dc8-87a9-a71be57d8f21",
   "metadata": {},
   "outputs": [
    {
     "data": {
      "text/plain": [
       "False"
      ]
     },
     "execution_count": 27,
     "metadata": {},
     "output_type": "execute_result"
    }
   ],
   "source": [
    "x  is not z"
   ]
  },
  {
   "cell_type": "code",
   "execution_count": 28,
   "id": "1c60e54a-327b-432c-aa95-6757e6ee68f9",
   "metadata": {},
   "outputs": [
    {
     "data": {
      "text/plain": [
       "True"
      ]
     },
     "execution_count": 28,
     "metadata": {},
     "output_type": "execute_result"
    }
   ],
   "source": [
    "x is not y"
   ]
  },
  {
   "cell_type": "code",
   "execution_count": 29,
   "id": "eda65f16-3213-4ee9-a965-a4917252a806",
   "metadata": {},
   "outputs": [
    {
     "data": {
      "text/plain": [
       "140732852151832"
      ]
     },
     "execution_count": 29,
     "metadata": {},
     "output_type": "execute_result"
    }
   ],
   "source": [
    "id(x)"
   ]
  },
  {
   "cell_type": "code",
   "execution_count": 30,
   "id": "57c7b807-203a-4659-aff3-cd9afa7974a8",
   "metadata": {},
   "outputs": [
    {
     "data": {
      "text/plain": [
       "1739240308192"
      ]
     },
     "execution_count": 30,
     "metadata": {},
     "output_type": "execute_result"
    }
   ],
   "source": [
    "id(y)"
   ]
  },
  {
   "cell_type": "code",
   "execution_count": 31,
   "id": "d453c5ee-5642-4a02-890c-afd5ca11fee8",
   "metadata": {},
   "outputs": [
    {
     "data": {
      "text/plain": [
       "True"
      ]
     },
     "execution_count": 31,
     "metadata": {},
     "output_type": "execute_result"
    }
   ],
   "source": [
    "(x == z) | (x != z)"
   ]
  },
  {
   "cell_type": "code",
   "execution_count": 32,
   "id": "9437111b-7dd8-48a1-be71-7238cf1ba51b",
   "metadata": {},
   "outputs": [
    {
     "data": {
      "text/plain": [
       "True"
      ]
     },
     "execution_count": 32,
     "metadata": {},
     "output_type": "execute_result"
    }
   ],
   "source": [
    "(x == z) or (x != z)"
   ]
  },
  {
   "cell_type": "code",
   "execution_count": 33,
   "id": "38e45310-a5cf-4ff0-969a-0400162fd4f6",
   "metadata": {},
   "outputs": [
    {
     "data": {
      "text/plain": [
       "False"
      ]
     },
     "execution_count": 33,
     "metadata": {},
     "output_type": "execute_result"
    }
   ],
   "source": [
    "(x == z) & (x != z)"
   ]
  },
  {
   "cell_type": "code",
   "execution_count": 34,
   "id": "b6f478b2-3164-47b6-85cb-d026cf1f9bd3",
   "metadata": {},
   "outputs": [
    {
     "data": {
      "text/plain": [
       "False"
      ]
     },
     "execution_count": 34,
     "metadata": {},
     "output_type": "execute_result"
    }
   ],
   "source": [
    "(x == z) and (x != z)"
   ]
  },
  {
   "cell_type": "code",
   "execution_count": 35,
   "id": "f1fbc213-b35c-421d-a255-801519588d79",
   "metadata": {},
   "outputs": [
    {
     "data": {
      "text/plain": [
       "True"
      ]
     },
     "execution_count": 35,
     "metadata": {},
     "output_type": "execute_result"
    }
   ],
   "source": [
    "(True == True) | (True == False) & (True != False)\n"
   ]
  },
  {
   "cell_type": "code",
   "execution_count": 1,
   "id": "da0283bd-e9da-4e68-b28a-5dbeca51375b",
   "metadata": {},
   "outputs": [
    {
     "ename": "SyntaxError",
     "evalue": "cannot assign to literal here. Maybe you meant '==' instead of '='? (2978359090.py, line 1)",
     "output_type": "error",
     "traceback": [
      "\u001b[1;36m  Cell \u001b[1;32mIn[1], line 1\u001b[1;36m\u001b[0m\n\u001b[1;33m    (1=1)+(1=0)*(1!=0)\u001b[0m\n\u001b[1;37m     ^\u001b[0m\n\u001b[1;31mSyntaxError\u001b[0m\u001b[1;31m:\u001b[0m cannot assign to literal here. Maybe you meant '==' instead of '='?\n"
     ]
    }
   ],
   "source": [
    "(1=1)+(1=0)*(1!=0)\n",
    "1+0*1=1"
   ]
  },
  {
   "cell_type": "code",
   "execution_count": 2,
   "id": "4cd7ecf3-7116-466f-890a-6d3d186a50b0",
   "metadata": {},
   "outputs": [
    {
     "name": "stdout",
     "output_type": "stream",
     "text": [
      "0\n",
      "1\n",
      "2\n",
      "3\n",
      "4\n",
      "5\n",
      "6\n",
      "7\n",
      "8\n",
      "9\n"
     ]
    }
   ],
   "source": [
    "for i in range(0, 10):\n",
    "    print(i)"
   ]
  },
  {
   "cell_type": "code",
   "execution_count": 3,
   "id": "591a8496-12cf-4c07-b4d1-9fa55745b423",
   "metadata": {},
   "outputs": [
    {
     "name": "stdout",
     "output_type": "stream",
     "text": [
      "1\n",
      "3\n",
      "6\n",
      "5\n",
      "9\n",
      "2\n"
     ]
    }
   ],
   "source": [
    "list1 = [1, 3, 6, 5, 9, 2]\n",
    "for i in list1:\n",
    "    print(i)"
   ]
  },
  {
   "cell_type": "code",
   "execution_count": 4,
   "id": "e39ebd97-fa6d-4a4b-8fc5-898b92d151b4",
   "metadata": {},
   "outputs": [
    {
     "name": "stdout",
     "output_type": "stream",
     "text": [
      "0\n",
      "1\n",
      "2\n",
      "3\n",
      "4\n",
      "5\n",
      "6\n",
      "7\n",
      "8\n",
      "9\n"
     ]
    }
   ],
   "source": [
    "i=0\n",
    "while i != 10:\n",
    "    print(i)\n",
    "    i = i+1"
   ]
  },
  {
   "cell_type": "code",
   "execution_count": 22,
   "id": "4ba0554c-c8dd-489f-90eb-a2ad50277cdc",
   "metadata": {},
   "outputs": [
    {
     "name": "stdout",
     "output_type": "stream",
     "text": [
      "[[1, 0, 1, 0, 1, 0], [1, 0, 1, 0, 1, 0], [1, 0, 1, 0, 1, 0]]\n"
     ]
    }
   ],
   "source": [
    "import pprint\n",
    "matrix = []\n",
    "\n",
    "\n",
    "for i in range(0, 3):\n",
    "    row = []\n",
    "    for k in range(0, 6):\n",
    "        if k%2 == 0:\n",
    "            row.append(1)\n",
    "        else:\n",
    "            row.append(0)\n",
    "    matrix.append(row)\n",
    "\n",
    "\n",
    "print(matrix)"
   ]
  },
  {
   "cell_type": "code",
   "execution_count": 23,
   "id": "3652b543-fd20-47db-8850-e61c87473dd7",
   "metadata": {},
   "outputs": [
    {
     "name": "stdout",
     "output_type": "stream",
     "text": [
      "[[1, 0, 1, 0, 1, 0], [1, 0, 1, 0, 1, 0], [1, 0, 1, 0, 1, 0]]\n"
     ]
    }
   ],
   "source": [
    "pprint.pprint(matrix)"
   ]
  },
  {
   "cell_type": "code",
   "execution_count": 24,
   "id": "932d952b-2985-4c52-910f-fcea774b1060",
   "metadata": {},
   "outputs": [
    {
     "name": "stdout",
     "output_type": "stream",
     "text": [
      "[1, 0, 1, 0, 1, 0]\n",
      "[1, 0, 1, 0, 1, 0]\n",
      "[1, 0, 1, 0, 1, 0]\n"
     ]
    }
   ],
   "source": [
    "for row in matrix:\n",
    "    print(row)"
   ]
  },
  {
   "cell_type": "code",
   "execution_count": 18,
   "id": "109c8125-35dd-4a38-968b-6f1dadf1c2a6",
   "metadata": {},
   "outputs": [
    {
     "data": {
      "text/plain": [
       "2.0"
      ]
     },
     "execution_count": 18,
     "metadata": {},
     "output_type": "execute_result"
    }
   ],
   "source": [
    "4/2"
   ]
  },
  {
   "cell_type": "code",
   "execution_count": 19,
   "id": "b7b05735-4ef9-4e50-a4ce-333f95cf1dde",
   "metadata": {},
   "outputs": [
    {
     "data": {
      "text/plain": [
       "2.5"
      ]
     },
     "execution_count": 19,
     "metadata": {},
     "output_type": "execute_result"
    }
   ],
   "source": [
    "5/2"
   ]
  },
  {
   "cell_type": "code",
   "execution_count": 20,
   "id": "565edecc-a8ba-46d3-a9a3-9ddfc2b5ebe5",
   "metadata": {},
   "outputs": [
    {
     "data": {
      "text/plain": [
       "1"
      ]
     },
     "execution_count": 20,
     "metadata": {},
     "output_type": "execute_result"
    }
   ],
   "source": [
    "5%2"
   ]
  },
  {
   "cell_type": "code",
   "execution_count": 21,
   "id": "cc5a1ee3-9f3b-474e-b615-14995f521c1f",
   "metadata": {},
   "outputs": [
    {
     "name": "stdout",
     "output_type": "stream",
     "text": [
      "не чёт\n"
     ]
    }
   ],
   "source": []
  },
  {
   "cell_type": "code",
   "execution_count": 1,
   "id": "f3a0cadf-118f-447a-bcf8-e016031ef059",
   "metadata": {},
   "outputs": [],
   "source": [
    "def print_hello():\n",
    "    string1 = \"hello\"\n",
    "    print(string1)"
   ]
  },
  {
   "cell_type": "code",
   "execution_count": 2,
   "id": "94bed5cc-2f9e-43a8-974a-d4d47e4a188c",
   "metadata": {},
   "outputs": [
    {
     "name": "stdout",
     "output_type": "stream",
     "text": [
      "hello\n"
     ]
    }
   ],
   "source": [
    "print_hello()"
   ]
  },
  {
   "cell_type": "code",
   "execution_count": 3,
   "id": "353f22fd-d47b-4174-8e53-737ca6000e71",
   "metadata": {},
   "outputs": [
    {
     "data": {
      "text/plain": [
       "<function __main__.print_hello()>"
      ]
     },
     "execution_count": 3,
     "metadata": {},
     "output_type": "execute_result"
    }
   ],
   "source": [
    "print_hello"
   ]
  },
  {
   "cell_type": "code",
   "execution_count": 4,
   "id": "4433169e-2fff-4a43-9948-d428ca5c5d3f",
   "metadata": {},
   "outputs": [
    {
     "data": {
      "text/plain": [
       "<function print(*args, sep=' ', end='\\n', file=None, flush=False)>"
      ]
     },
     "execution_count": 4,
     "metadata": {},
     "output_type": "execute_result"
    }
   ],
   "source": [
    "print"
   ]
  },
  {
   "cell_type": "code",
   "execution_count": 5,
   "id": "b6cb0113-a63d-4c58-b28b-0b1b69e397eb",
   "metadata": {},
   "outputs": [],
   "source": [
    "def my_sum(num1, num2):\n",
    "    result = num1+ num2\n",
    "    return result"
   ]
  },
  {
   "cell_type": "code",
   "execution_count": 6,
   "id": "192533cb-8ba0-4be4-83c1-840c0315db60",
   "metadata": {},
   "outputs": [
    {
     "name": "stdout",
     "output_type": "stream",
     "text": [
      "4\n"
     ]
    }
   ],
   "source": [
    "my_sum1 = my_sum(1, 3)\n",
    "print(my_sum1)"
   ]
  },
  {
   "cell_type": "code",
   "execution_count": 7,
   "id": "75e1925b-27d5-4b50-abac-a2af1996eea7",
   "metadata": {},
   "outputs": [
    {
     "data": {
      "text/plain": [
       "12"
      ]
     },
     "execution_count": 7,
     "metadata": {},
     "output_type": "execute_result"
    }
   ],
   "source": [
    "my_sum(5, 7)"
   ]
  },
  {
   "cell_type": "code",
   "execution_count": 8,
   "id": "ba1a6b95-3ff7-491d-81a6-505ad45907fc",
   "metadata": {},
   "outputs": [],
   "source": [
    "def my_myltiplay(num1, num2):\n",
    "    result = num1* num2\n",
    "    return result"
   ]
  },
  {
   "cell_type": "code",
   "execution_count": 9,
   "id": "17492711-1aa5-4443-bd25-2848c14cad2f",
   "metadata": {},
   "outputs": [
    {
     "data": {
      "text/plain": [
       "54"
      ]
     },
     "execution_count": 9,
     "metadata": {},
     "output_type": "execute_result"
    }
   ],
   "source": [
    "my_myltiplay(9, 6)"
   ]
  },
  {
   "cell_type": "code",
   "execution_count": 12,
   "id": "8ef10882-3f70-46ab-949a-1549c6f254de",
   "metadata": {},
   "outputs": [
    {
     "name": "stdout",
     "output_type": "stream",
     "text": [
      "26\n"
     ]
    }
   ],
   "source": [
    "\n",
    "list1 = [2, 4, 4, 8, 8]\n",
    "\n",
    "total_sum = 0         \n",
    "for elem in list1:\n",
    "    total_sum = total_sum + elem\n",
    "print(total_sum)"
   ]
  },
  {
   "cell_type": "code",
   "execution_count": 13,
   "id": "217e990c-9a9d-47e7-a69c-8df65bf37323",
   "metadata": {},
   "outputs": [],
   "source": [
    "def my_sum2(lst):\n",
    "    total_sum = 0\n",
    "    for elem in lst:\n",
    "        total_sum = total_sum + elem\n",
    "    return total_sum"
   ]
  },
  {
   "cell_type": "code",
   "execution_count": 14,
   "id": "b656b1ec-f6aa-4db1-b43e-1c7a7e27890b",
   "metadata": {},
   "outputs": [
    {
     "data": {
      "text/plain": [
       "26"
      ]
     },
     "execution_count": 14,
     "metadata": {},
     "output_type": "execute_result"
    }
   ],
   "source": [
    "my_sum2(list1)"
   ]
  },
  {
   "cell_type": "code",
   "execution_count": 19,
   "id": "013114f0-b424-4608-8a0c-07d10f475edd",
   "metadata": {},
   "outputs": [],
   "source": [
    "def my_multiple(lst):\n",
    "    total_sum = 1\n",
    "    for elem in lst:\n",
    "        total_sum = total_sum * elem\n",
    "    return total_sum"
   ]
  },
  {
   "cell_type": "code",
   "execution_count": 20,
   "id": "9c3d591b-cdb6-41f9-b3f9-cd930a6a2fe4",
   "metadata": {},
   "outputs": [
    {
     "data": {
      "text/plain": [
       "2048"
      ]
     },
     "execution_count": 20,
     "metadata": {},
     "output_type": "execute_result"
    }
   ],
   "source": [
    "my_multiple(list1)"
   ]
  },
  {
   "cell_type": "code",
   "execution_count": 21,
   "id": "4f1a5948-3e75-4901-be26-65293a092c51",
   "metadata": {},
   "outputs": [],
   "source": [
    "def my_sum3(lst1, lst2):\n",
    "    total_sum1 = 0\n",
    "    for elem in lst1:\n",
    "        total_sum1 = total_sum1 + elem  \n",
    "    total_sum2 = 0\n",
    "    for elem in lst2:\n",
    "        total_sum2 = total_sum2 + elem \n",
    "        \n",
    "    total_sum = total_sum1 + total_sum2\n",
    "    return total_sum"
   ]
  },
  {
   "cell_type": "code",
   "execution_count": 22,
   "id": "7b0dcb89-f0eb-4727-aa32-8e27b3549ceb",
   "metadata": {},
   "outputs": [
    {
     "data": {
      "text/plain": [
       "22"
      ]
     },
     "execution_count": 22,
     "metadata": {},
     "output_type": "execute_result"
    }
   ],
   "source": [
    "my_sum3([2, 4, 8,],[7, 1, 0])"
   ]
  },
  {
   "cell_type": "code",
   "execution_count": 1,
   "id": "5202ba36-54a5-4457-bead-4ce933c5e491",
   "metadata": {},
   "outputs": [
    {
     "name": "stdout",
     "output_type": "stream",
     "text": [
      "1\n"
     ]
    }
   ],
   "source": [
    "if True:\n",
    "    print(1)"
   ]
  },
  {
   "cell_type": "code",
   "execution_count": 2,
   "id": "20cf7b40-609f-4c9a-8c33-3fc455ead270",
   "metadata": {},
   "outputs": [],
   "source": [
    "x = True\n",
    "y = False\n",
    "z = True"
   ]
  },
  {
   "cell_type": "code",
   "execution_count": 6,
   "id": "f5e5888b-c433-486b-8340-5e3351cbe147",
   "metadata": {},
   "outputs": [
    {
     "name": "stdout",
     "output_type": "stream",
     "text": [
      "2\n"
     ]
    }
   ],
   "source": [
    "if (x == True) & (y == True) & (z == True):\n",
    "    print(1)\n",
    "elif (x == True) | (y == True) | (z == True):\n",
    "    print(2)\n",
    "else:\n",
    "    print(0)\n",
    "    "
   ]
  },
  {
   "cell_type": "code",
   "execution_count": null,
   "id": "8427d8d7-209d-4b11-a785-9a5f6c56d3ae",
   "metadata": {},
   "outputs": [],
   "source": []
  }
 ],
 "metadata": {
  "kernelspec": {
   "display_name": "Python 3 (ipykernel)",
   "language": "python",
   "name": "python3"
  },
  "language_info": {
   "codemirror_mode": {
    "name": "ipython",
    "version": 3
   },
   "file_extension": ".py",
   "mimetype": "text/x-python",
   "name": "python",
   "nbconvert_exporter": "python",
   "pygments_lexer": "ipython3",
   "version": "3.12.3"
  }
 },
 "nbformat": 4,
 "nbformat_minor": 5
}
